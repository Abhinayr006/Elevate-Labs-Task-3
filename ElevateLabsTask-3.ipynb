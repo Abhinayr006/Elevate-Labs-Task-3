{
 "cells": [
  {
   "cell_type": "code",
   "execution_count": 1,
   "id": "0f682aef-89f3-4dac-9ecc-7f60dee8931f",
   "metadata": {},
   "outputs": [],
   "source": [
    "# Import libraries and load dataset\n",
    "import pandas as pd\n",
    "import numpy as np\n",
    "import matplotlib.pyplot as plt\n",
    "from sklearn.model_selection import train_test_split\n",
    "from sklearn.linear_model import LinearRegression\n",
    "from sklearn.metrics import mean_absolute_error, mean_squared_error, r2_score\n",
    "from sklearn.preprocessing import LabelEncoder"
   ]
  },
  {
   "cell_type": "code",
   "execution_count": 2,
   "id": "4ad5534d-88f4-4b33-ad9e-9ea7cfc0a930",
   "metadata": {},
   "outputs": [
    {
     "name": "stdout",
     "output_type": "stream",
     "text": [
      "Dataset shape: (545, 13)\n",
      "Columns: ['price', 'area', 'bedrooms', 'bathrooms', 'stories', 'mainroad', 'guestroom', 'basement', 'hotwaterheating', 'airconditioning', 'parking', 'prefarea', 'furnishingstatus']\n"
     ]
    }
   ],
   "source": [
    "# Load the dataset\n",
    "df = pd.read_csv('Housing.csv')\n",
    "print(\"Dataset shape:\", df.shape)\n",
    "print(\"Columns:\", df.columns.tolist())"
   ]
  },
  {
   "cell_type": "code",
   "execution_count": 3,
   "id": "617276b3-69cf-45fa-ad4c-1f78e194a595",
   "metadata": {},
   "outputs": [
    {
     "data": {
      "text/html": [
       "<div>\n",
       "<style scoped>\n",
       "    .dataframe tbody tr th:only-of-type {\n",
       "        vertical-align: middle;\n",
       "    }\n",
       "\n",
       "    .dataframe tbody tr th {\n",
       "        vertical-align: top;\n",
       "    }\n",
       "\n",
       "    .dataframe thead th {\n",
       "        text-align: right;\n",
       "    }\n",
       "</style>\n",
       "<table border=\"1\" class=\"dataframe\">\n",
       "  <thead>\n",
       "    <tr style=\"text-align: right;\">\n",
       "      <th></th>\n",
       "      <th>price</th>\n",
       "      <th>area</th>\n",
       "      <th>bedrooms</th>\n",
       "      <th>bathrooms</th>\n",
       "      <th>stories</th>\n",
       "      <th>mainroad</th>\n",
       "      <th>guestroom</th>\n",
       "      <th>basement</th>\n",
       "      <th>hotwaterheating</th>\n",
       "      <th>airconditioning</th>\n",
       "      <th>parking</th>\n",
       "      <th>prefarea</th>\n",
       "      <th>furnishingstatus</th>\n",
       "    </tr>\n",
       "  </thead>\n",
       "  <tbody>\n",
       "    <tr>\n",
       "      <th>0</th>\n",
       "      <td>13300000</td>\n",
       "      <td>7420</td>\n",
       "      <td>4</td>\n",
       "      <td>2</td>\n",
       "      <td>3</td>\n",
       "      <td>yes</td>\n",
       "      <td>no</td>\n",
       "      <td>no</td>\n",
       "      <td>no</td>\n",
       "      <td>yes</td>\n",
       "      <td>2</td>\n",
       "      <td>yes</td>\n",
       "      <td>furnished</td>\n",
       "    </tr>\n",
       "    <tr>\n",
       "      <th>1</th>\n",
       "      <td>12250000</td>\n",
       "      <td>8960</td>\n",
       "      <td>4</td>\n",
       "      <td>4</td>\n",
       "      <td>4</td>\n",
       "      <td>yes</td>\n",
       "      <td>no</td>\n",
       "      <td>no</td>\n",
       "      <td>no</td>\n",
       "      <td>yes</td>\n",
       "      <td>3</td>\n",
       "      <td>no</td>\n",
       "      <td>furnished</td>\n",
       "    </tr>\n",
       "    <tr>\n",
       "      <th>2</th>\n",
       "      <td>12250000</td>\n",
       "      <td>9960</td>\n",
       "      <td>3</td>\n",
       "      <td>2</td>\n",
       "      <td>2</td>\n",
       "      <td>yes</td>\n",
       "      <td>no</td>\n",
       "      <td>yes</td>\n",
       "      <td>no</td>\n",
       "      <td>no</td>\n",
       "      <td>2</td>\n",
       "      <td>yes</td>\n",
       "      <td>semi-furnished</td>\n",
       "    </tr>\n",
       "    <tr>\n",
       "      <th>3</th>\n",
       "      <td>12215000</td>\n",
       "      <td>7500</td>\n",
       "      <td>4</td>\n",
       "      <td>2</td>\n",
       "      <td>2</td>\n",
       "      <td>yes</td>\n",
       "      <td>no</td>\n",
       "      <td>yes</td>\n",
       "      <td>no</td>\n",
       "      <td>yes</td>\n",
       "      <td>3</td>\n",
       "      <td>yes</td>\n",
       "      <td>furnished</td>\n",
       "    </tr>\n",
       "    <tr>\n",
       "      <th>4</th>\n",
       "      <td>11410000</td>\n",
       "      <td>7420</td>\n",
       "      <td>4</td>\n",
       "      <td>1</td>\n",
       "      <td>2</td>\n",
       "      <td>yes</td>\n",
       "      <td>yes</td>\n",
       "      <td>yes</td>\n",
       "      <td>no</td>\n",
       "      <td>yes</td>\n",
       "      <td>2</td>\n",
       "      <td>no</td>\n",
       "      <td>furnished</td>\n",
       "    </tr>\n",
       "  </tbody>\n",
       "</table>\n",
       "</div>"
      ],
      "text/plain": [
       "      price  area  bedrooms  bathrooms  stories mainroad guestroom basement  \\\n",
       "0  13300000  7420         4          2        3      yes        no       no   \n",
       "1  12250000  8960         4          4        4      yes        no       no   \n",
       "2  12250000  9960         3          2        2      yes        no      yes   \n",
       "3  12215000  7500         4          2        2      yes        no      yes   \n",
       "4  11410000  7420         4          1        2      yes       yes      yes   \n",
       "\n",
       "  hotwaterheating airconditioning  parking prefarea furnishingstatus  \n",
       "0              no             yes        2      yes        furnished  \n",
       "1              no             yes        3       no        furnished  \n",
       "2              no              no        2      yes   semi-furnished  \n",
       "3              no             yes        3      yes        furnished  \n",
       "4              no             yes        2       no        furnished  "
      ]
     },
     "execution_count": 3,
     "metadata": {},
     "output_type": "execute_result"
    }
   ],
   "source": [
    "df.head()"
   ]
  },
  {
   "cell_type": "code",
   "execution_count": 4,
   "id": "c89cb34f-f924-4c8a-a747-df877e5f13e1",
   "metadata": {},
   "outputs": [
    {
     "data": {
      "text/html": [
       "<div>\n",
       "<style scoped>\n",
       "    .dataframe tbody tr th:only-of-type {\n",
       "        vertical-align: middle;\n",
       "    }\n",
       "\n",
       "    .dataframe tbody tr th {\n",
       "        vertical-align: top;\n",
       "    }\n",
       "\n",
       "    .dataframe thead th {\n",
       "        text-align: right;\n",
       "    }\n",
       "</style>\n",
       "<table border=\"1\" class=\"dataframe\">\n",
       "  <thead>\n",
       "    <tr style=\"text-align: right;\">\n",
       "      <th></th>\n",
       "      <th>price</th>\n",
       "      <th>area</th>\n",
       "      <th>bedrooms</th>\n",
       "      <th>bathrooms</th>\n",
       "      <th>stories</th>\n",
       "      <th>parking</th>\n",
       "    </tr>\n",
       "  </thead>\n",
       "  <tbody>\n",
       "    <tr>\n",
       "      <th>count</th>\n",
       "      <td>5.450000e+02</td>\n",
       "      <td>545.000000</td>\n",
       "      <td>545.000000</td>\n",
       "      <td>545.000000</td>\n",
       "      <td>545.000000</td>\n",
       "      <td>545.000000</td>\n",
       "    </tr>\n",
       "    <tr>\n",
       "      <th>mean</th>\n",
       "      <td>4.766729e+06</td>\n",
       "      <td>5150.541284</td>\n",
       "      <td>2.965138</td>\n",
       "      <td>1.286239</td>\n",
       "      <td>1.805505</td>\n",
       "      <td>0.693578</td>\n",
       "    </tr>\n",
       "    <tr>\n",
       "      <th>std</th>\n",
       "      <td>1.870440e+06</td>\n",
       "      <td>2170.141023</td>\n",
       "      <td>0.738064</td>\n",
       "      <td>0.502470</td>\n",
       "      <td>0.867492</td>\n",
       "      <td>0.861586</td>\n",
       "    </tr>\n",
       "    <tr>\n",
       "      <th>min</th>\n",
       "      <td>1.750000e+06</td>\n",
       "      <td>1650.000000</td>\n",
       "      <td>1.000000</td>\n",
       "      <td>1.000000</td>\n",
       "      <td>1.000000</td>\n",
       "      <td>0.000000</td>\n",
       "    </tr>\n",
       "    <tr>\n",
       "      <th>25%</th>\n",
       "      <td>3.430000e+06</td>\n",
       "      <td>3600.000000</td>\n",
       "      <td>2.000000</td>\n",
       "      <td>1.000000</td>\n",
       "      <td>1.000000</td>\n",
       "      <td>0.000000</td>\n",
       "    </tr>\n",
       "    <tr>\n",
       "      <th>50%</th>\n",
       "      <td>4.340000e+06</td>\n",
       "      <td>4600.000000</td>\n",
       "      <td>3.000000</td>\n",
       "      <td>1.000000</td>\n",
       "      <td>2.000000</td>\n",
       "      <td>0.000000</td>\n",
       "    </tr>\n",
       "    <tr>\n",
       "      <th>75%</th>\n",
       "      <td>5.740000e+06</td>\n",
       "      <td>6360.000000</td>\n",
       "      <td>3.000000</td>\n",
       "      <td>2.000000</td>\n",
       "      <td>2.000000</td>\n",
       "      <td>1.000000</td>\n",
       "    </tr>\n",
       "    <tr>\n",
       "      <th>max</th>\n",
       "      <td>1.330000e+07</td>\n",
       "      <td>16200.000000</td>\n",
       "      <td>6.000000</td>\n",
       "      <td>4.000000</td>\n",
       "      <td>4.000000</td>\n",
       "      <td>3.000000</td>\n",
       "    </tr>\n",
       "  </tbody>\n",
       "</table>\n",
       "</div>"
      ],
      "text/plain": [
       "              price          area    bedrooms   bathrooms     stories  \\\n",
       "count  5.450000e+02    545.000000  545.000000  545.000000  545.000000   \n",
       "mean   4.766729e+06   5150.541284    2.965138    1.286239    1.805505   \n",
       "std    1.870440e+06   2170.141023    0.738064    0.502470    0.867492   \n",
       "min    1.750000e+06   1650.000000    1.000000    1.000000    1.000000   \n",
       "25%    3.430000e+06   3600.000000    2.000000    1.000000    1.000000   \n",
       "50%    4.340000e+06   4600.000000    3.000000    1.000000    2.000000   \n",
       "75%    5.740000e+06   6360.000000    3.000000    2.000000    2.000000   \n",
       "max    1.330000e+07  16200.000000    6.000000    4.000000    4.000000   \n",
       "\n",
       "          parking  \n",
       "count  545.000000  \n",
       "mean     0.693578  \n",
       "std      0.861586  \n",
       "min      0.000000  \n",
       "25%      0.000000  \n",
       "50%      0.000000  \n",
       "75%      1.000000  \n",
       "max      3.000000  "
      ]
     },
     "execution_count": 4,
     "metadata": {},
     "output_type": "execute_result"
    }
   ],
   "source": [
    "df.describe()"
   ]
  },
  {
   "cell_type": "markdown",
   "id": "fbe76f34-d0da-4f57-9480-502f41990278",
   "metadata": {},
   "source": [
    "### Preprocess the dataset"
   ]
  },
  {
   "cell_type": "code",
   "execution_count": 5,
   "id": "08544a92-20f8-424b-a94b-e693a8520883",
   "metadata": {},
   "outputs": [
    {
     "name": "stdout",
     "output_type": "stream",
     "text": [
      "Missing values in X:\n",
      " area                0\n",
      "bedrooms            0\n",
      "bathrooms           0\n",
      "stories             0\n",
      "mainroad            0\n",
      "guestroom           0\n",
      "basement            0\n",
      "hotwaterheating     0\n",
      "airconditioning     0\n",
      "parking             0\n",
      "prefarea            0\n",
      "furnishingstatus    0\n",
      "dtype: int64\n",
      "Missing values in y: 0\n",
      "X dtypes:\n",
      " area                int64\n",
      "bedrooms            int64\n",
      "bathrooms           int64\n",
      "stories             int64\n",
      "mainroad            int64\n",
      "guestroom           int64\n",
      "basement            int64\n",
      "hotwaterheating     int64\n",
      "airconditioning     int64\n",
      "parking             int64\n",
      "prefarea            int64\n",
      "furnishingstatus    int64\n",
      "dtype: object\n"
     ]
    }
   ],
   "source": [
    "# Encode categorical variables (yes/no and furnishingstatus)\n",
    "le = LabelEncoder()\n",
    "categorical_cols = ['mainroad', 'guestroom', 'basement', 'hotwaterheating', 'airconditioning', 'prefarea']\n",
    "for col in categorical_cols:\n",
    "    df[col] = le.fit_transform(df[col])  # yes/no to 1/0\n",
    "\n",
    "# Encode furnishingstatus (furnished, semi-furnished, unfurnished)\n",
    "df['furnishingstatus'] = le.fit_transform(df['furnishingstatus'])  # furnished: 0, semi-furnished: 1, unfurnished: 2\n",
    "\n",
    "# Target: price\n",
    "# Features: all other columns\n",
    "X = df.drop(columns=['price'])\n",
    "y = df['price']\n",
    "\n",
    "# Check for missing values\n",
    "print(\"Missing values in X:\\n\", X.isna().sum())\n",
    "print(\"Missing values in y:\", y.isna().sum())\n",
    "\n",
    "# Ensure all features are numeric\n",
    "print(\"X dtypes:\\n\", X.dtypes)"
   ]
  },
  {
   "cell_type": "markdown",
   "id": "e5c412e3-0ac8-4c25-b5e2-b8f1399c3d80",
   "metadata": {},
   "source": [
    "### Split data into train-test sets\n"
   ]
  },
  {
   "cell_type": "code",
   "execution_count": 6,
   "id": "fb74dc30-889f-41e7-831a-93b27487012c",
   "metadata": {},
   "outputs": [
    {
     "name": "stdout",
     "output_type": "stream",
     "text": [
      "Training set shape: (436, 12) (436,)\n",
      "Test set shape: (109, 12) (109,)\n"
     ]
    }
   ],
   "source": [
    "X_train, X_test, y_train, y_test = train_test_split(X, y, test_size=0.2, random_state=42)\n",
    "print(\"Training set shape:\", X_train.shape, y_train.shape)\n",
    "print(\"Test set shape:\", X_test.shape, y_test.shape)"
   ]
  },
  {
   "cell_type": "markdown",
   "id": "79ada692-1a02-42ba-a61c-8087a9488d3c",
   "metadata": {},
   "source": [
    "### Simple Linear Regression using area (Model Training)"
   ]
  },
  {
   "cell_type": "code",
   "execution_count": 7,
   "id": "6b49edc5-6156-4a9f-807f-d9dac1ade171",
   "metadata": {},
   "outputs": [
    {
     "name": "stdout",
     "output_type": "stream",
     "text": [
      "Simple Linear Regression (Area -> Price):\n",
      "MAE: 1474748.13\n",
      "MSE: 3675286604768.19\n",
      "R²: 0.2729\n",
      "Coefficient (Area): 425.73\n",
      "Intercept: 2512254.26\n"
     ]
    }
   ],
   "source": [
    "# Select single feature\n",
    "X_train_simple = X_train[['area']]\n",
    "X_test_simple = X_test[['area']]\n",
    "\n",
    "# Fit model\n",
    "simple_lr = LinearRegression()\n",
    "simple_lr.fit(X_train_simple, y_train)\n",
    "\n",
    "# Predict\n",
    "y_pred_simple = simple_lr.predict(X_test_simple)\n",
    "\n",
    "# Evaluate\n",
    "mae_simple = mean_absolute_error(y_test, y_pred_simple)\n",
    "mse_simple = mean_squared_error(y_test, y_pred_simple)\n",
    "r2_simple = r2_score(y_test, y_pred_simple)\n",
    "\n",
    "print(\"Simple Linear Regression (Area -> Price):\")\n",
    "print(f\"MAE: {mae_simple:.2f}\")\n",
    "print(f\"MSE: {mse_simple:.2f}\")\n",
    "print(f\"R²: {r2_simple:.4f}\")\n",
    "print(f\"Coefficient (Area): {simple_lr.coef_[0]:.2f}\")\n",
    "print(f\"Intercept: {simple_lr.intercept_:.2f}\")"
   ]
  },
  {
   "cell_type": "markdown",
   "id": "8ce9c324-927d-4e47-a2b1-fcc47b5788bd",
   "metadata": {},
   "source": [
    "### Plot regression line for simple linear regression"
   ]
  },
  {
   "cell_type": "code",
   "execution_count": 8,
   "id": "e00d890a-9e1c-482a-84cd-dfd37751e42a",
   "metadata": {},
   "outputs": [
    {
     "data": {
      "image/png": "[encoded data removed]",
      "text/plain": [
       "<Figure size 800x600 with 1 Axes>"
      ]
     },
     "metadata": {},
     "output_type": "display_data"
    }
   ],
   "source": [
    "plt.figure(figsize=(8, 6))\n",
    "plt.scatter(X_test_simple, y_test, color='blue', label='Actual', alpha=0.5)\n",
    "plt.plot(X_test_simple, y_pred_simple, color='red', label='Regression Line')\n",
    "plt.xlabel('Area (sq ft)')\n",
    "plt.ylabel('Price')\n",
    "plt.title('Simple Linear Regression: Area vs Price')\n",
    "plt.legend()\n",
    "plt.savefig('simple_regression_line.png')\n",
    "plt.show()"
   ]
  },
  {
   "cell_type": "markdown",
   "id": "a7b9b4c9-8b7b-4df3-ad6f-fd601126b63d",
   "metadata": {},
   "source": [
    "### Multiple Linear Regression using all features"
   ]
  },
  {
   "cell_type": "code",
   "execution_count": 9,
   "id": "dbc72fba-ea31-481e-84f9-1234188f9f61",
   "metadata": {},
   "outputs": [
    {
     "name": "stdout",
     "output_type": "stream",
     "text": [
      "Multiple Linear Regression (All Features -> Price):\n",
      "MAE: 979679.69\n",
      "MSE: 1771751116594.03\n",
      "R²: 0.6495\n",
      "\n",
      "Coefficients:\n",
      "area: 235.85\n",
      "bedrooms: 78574.49\n",
      "bathrooms: 1097117.27\n",
      "stories: 406223.16\n",
      "mainroad: 366824.19\n",
      "guestroom: 233146.77\n",
      "basement: 393159.78\n",
      "hotwaterheating: 687881.31\n",
      "airconditioning: 785550.58\n",
      "parking: 225756.51\n",
      "prefarea: 629901.66\n",
      "furnishingstatus: -210397.12\n",
      "Intercept: 293083.07\n"
     ]
    }
   ],
   "source": [
    "multi_lr = LinearRegression()\n",
    "multi_lr.fit(X_train, y_train)\n",
    "\n",
    "# Predict\n",
    "y_pred_multi = multi_lr.predict(X_test)\n",
    "\n",
    "# Evaluate\n",
    "mae_multi = mean_absolute_error(y_test, y_pred_multi)\n",
    "mse_multi = mean_squared_error(y_test, y_pred_multi)\n",
    "r2_multi = r2_score(y_test, y_pred_multi)\n",
    "\n",
    "print(\"Multiple Linear Regression (All Features -> Price):\")\n",
    "print(f\"MAE: {mae_multi:.2f}\")\n",
    "print(f\"MSE: {mse_multi:.2f}\")\n",
    "print(f\"R²: {r2_multi:.4f}\")\n",
    "print(\"\\nCoefficients:\")\n",
    "for feature, coef in zip(X.columns, multi_lr.coef_):\n",
    "    print(f\"{feature}: {coef:.2f}\")\n",
    "print(f\"Intercept: {multi_lr.intercept_:.2f}\")"
   ]
  },
  {
   "cell_type": "markdown",
   "id": "ef0dfce7-1b10-4e01-a65c-ca0c2053f6af",
   "metadata": {},
   "source": [
    "### Plot predicted vs actual for multiple regression"
   ]
  },
  {
   "cell_type": "code",
   "execution_count": 10,
   "id": "36ff71f7-73ea-498e-84b8-39fcce671d24",
   "metadata": {},
   "outputs": [
    {
     "data": {
      "image/png": "[encoded data removed]",
      "text/plain": [
       "<Figure size 800x600 with 1 Axes>"
      ]
     },
     "metadata": {},
     "output_type": "display_data"
    }
   ],
   "source": [
    "plt.figure(figsize=(8, 6))\n",
    "plt.scatter(y_test, y_pred_multi, color='green', alpha=0.5)\n",
    "plt.plot([y_test.min(), y_test.max()], [y_test.min(), y_test.max()], 'r--', lw=2)\n",
    "plt.xlabel('Actual Price')\n",
    "plt.ylabel('Predicted Price')\n",
    "plt.title('Multiple Linear Regression: Predicted vs Actual')\n",
    "plt.savefig('predicted_vs_actual.png')\n",
    "plt.show()"
   ]
  },
  {
   "cell_type": "markdown",
   "id": "27433ef7-782a-4333-bb12-9ff62658fab8",
   "metadata": {},
   "source": [
    "### Check for multicollinearity using Variance Inflation Factor (VIF)"
   ]
  },
  {
   "cell_type": "code",
   "execution_count": 11,
   "id": "2561bdc4-3516-4bb8-a5a1-cd9cb28a5e28",
   "metadata": {},
   "outputs": [
    {
     "name": "stdout",
     "output_type": "stream",
     "text": [
      "VIF Scores:\n",
      "              Feature        VIF\n",
      "0               area   8.270130\n",
      "1           bedrooms  16.368165\n",
      "2          bathrooms   9.408363\n",
      "3            stories   7.880723\n",
      "4           mainroad   6.852485\n",
      "5          guestroom   1.472838\n",
      "6           basement   2.013876\n",
      "7    hotwaterheating   1.089167\n",
      "8    airconditioning   1.759717\n",
      "9            parking   1.985880\n",
      "10          prefarea   1.492621\n",
      "11  furnishingstatus   2.648467\n"
     ]
    }
   ],
   "source": [
    "from statsmodels.stats.outliers_influence import variance_inflation_factor\n",
    "\n",
    "vif_data = pd.DataFrame()\n",
    "vif_data[\"Feature\"] = X.columns\n",
    "vif_data[\"VIF\"] = [variance_inflation_factor(X.values, i) for i in range(X.shape[1])]\n",
    "print(\"VIF Scores:\\n\", vif_data)"
   ]
  },
  {
   "cell_type": "code",
   "execution_count": null,
   "id": "281039ce-ea18-40af-9e90-98d6c18c1733",
   "metadata": {},
   "outputs": [],
   "source": []
  }
 ],
 "metadata": {
  "kernelspec": {
   "display_name": "Python 3 (ipykernel)",
   "language": "python",
   "name": "python3"
  },
  "language_info": {
   "codemirror_mode": {
    "name": "ipython",
    "version": 3
   },
   "file_extension": ".py",
   "mimetype": "text/x-python",
   "name": "python",
   "nbconvert_exporter": "python",
   "pygments_lexer": "ipython3",
   "version": "3.13.2"
  }
 },
 "nbformat": 4,
 "nbformat_minor": 5
}
